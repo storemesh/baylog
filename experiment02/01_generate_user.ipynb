{
 "cells": [
  {
   "cell_type": "code",
   "execution_count": 59,
   "id": "e855a803",
   "metadata": {},
   "outputs": [],
   "source": [
    "import requests\n",
    "import json\n",
    "from datetime import datetime\n",
    "import random\n",
    "import json\n",
    "import threading\n",
    "import time"
   ]
  },
  {
   "cell_type": "markdown",
   "id": "6c7f5b08",
   "metadata": {},
   "source": [
    "## Initialize User"
   ]
  },
  {
   "cell_type": "markdown",
   "id": "461cb16e",
   "metadata": {},
   "source": [
    "### create user"
   ]
  },
  {
   "cell_type": "code",
   "execution_count": 50,
   "id": "b9b04732",
   "metadata": {},
   "outputs": [
    {
     "name": "stdout",
     "output_type": "stream",
     "text": [
      "i: 1, create, 201, http://localhost/api/v1/profile/\n",
      "i: 2, create, 201, http://localhost/api/v1/profile/\n",
      "i: 3, create, 201, http://localhost/api/v1/profile/\n",
      "i: 4, create, 201, http://localhost/api/v1/profile/\n",
      "i: 5, create, 201, http://localhost/api/v1/profile/\n",
      "i: 6, create, 201, http://localhost/api/v1/profile/\n",
      "i: 7, create, 201, http://localhost/api/v1/profile/\n",
      "i: 8, create, 201, http://localhost/api/v1/profile/\n",
      "i: 9, create, 201, http://localhost/api/v1/profile/\n",
      "i: 10, create, 201, http://localhost/api/v1/profile/\n",
      "i: 11, create, 201, http://localhost/api/v1/profile/\n",
      "i: 12, create, 201, http://localhost/api/v1/profile/\n",
      "i: 13, create, 201, http://localhost/api/v1/profile/\n",
      "i: 14, create, 201, http://localhost/api/v1/profile/\n",
      "i: 15, create, 201, http://localhost/api/v1/profile/\n",
      "i: 16, create, 201, http://localhost/api/v1/profile/\n",
      "i: 17, create, 201, http://localhost/api/v1/profile/\n",
      "i: 18, create, 201, http://localhost/api/v1/profile/\n",
      "i: 19, create, 201, http://localhost/api/v1/profile/\n",
      "i: 20, create, 201, http://localhost/api/v1/profile/\n",
      "i: 21, create, 201, http://localhost/api/v1/profile/\n",
      "i: 22, create, 201, http://localhost/api/v1/profile/\n",
      "i: 23, create, 201, http://localhost/api/v1/profile/\n",
      "i: 24, create, 201, http://localhost/api/v1/profile/\n",
      "i: 25, create, 201, http://localhost/api/v1/profile/\n",
      "i: 26, create, 201, http://localhost/api/v1/profile/\n",
      "i: 27, create, 201, http://localhost/api/v1/profile/\n",
      "i: 28, create, 201, http://localhost/api/v1/profile/\n",
      "i: 29, create, 201, http://localhost/api/v1/profile/\n",
      "i: 30, create, 201, http://localhost/api/v1/profile/\n",
      "i: 31, create, 201, http://localhost/api/v1/profile/\n",
      "i: 32, create, 201, http://localhost/api/v1/profile/\n",
      "i: 33, create, 201, http://localhost/api/v1/profile/\n",
      "i: 34, create, 201, http://localhost/api/v1/profile/\n",
      "i: 35, create, 201, http://localhost/api/v1/profile/\n",
      "i: 36, create, 201, http://localhost/api/v1/profile/\n",
      "i: 37, create, 201, http://localhost/api/v1/profile/\n",
      "i: 38, create, 201, http://localhost/api/v1/profile/\n",
      "i: 39, create, 201, http://localhost/api/v1/profile/\n",
      "i: 40, create, 201, http://localhost/api/v1/profile/\n",
      "i: 41, create, 201, http://localhost/api/v1/profile/\n",
      "i: 42, create, 201, http://localhost/api/v1/profile/\n",
      "i: 43, create, 201, http://localhost/api/v1/profile/\n",
      "i: 44, create, 201, http://localhost/api/v1/profile/\n",
      "i: 45, create, 201, http://localhost/api/v1/profile/\n",
      "i: 46, create, 201, http://localhost/api/v1/profile/\n",
      "i: 47, create, 201, http://localhost/api/v1/profile/\n",
      "i: 48, create, 201, http://localhost/api/v1/profile/\n",
      "i: 49, create, 201, http://localhost/api/v1/profile/\n",
      "i: 50, create, 201, http://localhost/api/v1/profile/\n"
     ]
    }
   ],
   "source": [
    "for i in range(1,51):\n",
    "    url = 'http://localhost/api/v1/profile/'\n",
    "    data = {\n",
    "        \"id\": i,\n",
    "        \"name\": f\"test_{i}\",\n",
    "        \"address\": f\"address_{i}\",\n",
    "        \"postcode\": f\"p_{i}\",\n",
    "        \"email\": f\"email_{i}@gmail.com\",\n",
    "        \"user\": 1\n",
    "    }\n",
    "    payload = json.dumps(data)\n",
    "    headers = {'content-type': 'application/json'}\n",
    "    r = requests.post(url, data=payload, headers=headers)\n",
    "    print(f'i: {i}, create, {r.status_code}, {url}')"
   ]
  }
 ],
 "metadata": {
  "kernelspec": {
   "display_name": "Python 3 (ipykernel)",
   "language": "python",
   "name": "python3"
  },
  "language_info": {
   "codemirror_mode": {
    "name": "ipython",
    "version": 3
   },
   "file_extension": ".py",
   "mimetype": "text/x-python",
   "name": "python",
   "nbconvert_exporter": "python",
   "pygments_lexer": "ipython3",
   "version": "3.7.13"
  }
 },
 "nbformat": 4,
 "nbformat_minor": 5
}
