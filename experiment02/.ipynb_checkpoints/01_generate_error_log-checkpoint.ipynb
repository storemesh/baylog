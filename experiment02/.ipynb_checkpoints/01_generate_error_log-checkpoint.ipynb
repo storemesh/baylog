{
 "cells": [
  {
   "cell_type": "code",
   "execution_count": 59,
   "id": "e855a803",
   "metadata": {},
   "outputs": [],
   "source": [
    "import requests\n",
    "import json\n",
    "from datetime import datetime\n",
    "import random\n",
    "import json\n",
    "import threading\n",
    "import time"
   ]
  },
  {
   "cell_type": "markdown",
   "id": "6c7f5b08",
   "metadata": {},
   "source": [
    "## Initialize User"
   ]
  },
  {
   "cell_type": "markdown",
   "id": "461cb16e",
   "metadata": {},
   "source": [
    "### create user"
   ]
  },
  {
   "cell_type": "code",
   "execution_count": 50,
   "id": "b9b04732",
   "metadata": {},
   "outputs": [
    {
     "name": "stdout",
     "output_type": "stream",
     "text": [
      "i: 1, create, 201, http://localhost/api/v1/profile/\n",
      "i: 2, create, 201, http://localhost/api/v1/profile/\n",
      "i: 3, create, 201, http://localhost/api/v1/profile/\n",
      "i: 4, create, 201, http://localhost/api/v1/profile/\n",
      "i: 5, create, 201, http://localhost/api/v1/profile/\n",
      "i: 6, create, 201, http://localhost/api/v1/profile/\n",
      "i: 7, create, 201, http://localhost/api/v1/profile/\n",
      "i: 8, create, 201, http://localhost/api/v1/profile/\n",
      "i: 9, create, 201, http://localhost/api/v1/profile/\n",
      "i: 10, create, 201, http://localhost/api/v1/profile/\n",
      "i: 11, create, 201, http://localhost/api/v1/profile/\n",
      "i: 12, create, 201, http://localhost/api/v1/profile/\n",
      "i: 13, create, 201, http://localhost/api/v1/profile/\n",
      "i: 14, create, 201, http://localhost/api/v1/profile/\n",
      "i: 15, create, 201, http://localhost/api/v1/profile/\n",
      "i: 16, create, 201, http://localhost/api/v1/profile/\n",
      "i: 17, create, 201, http://localhost/api/v1/profile/\n",
      "i: 18, create, 201, http://localhost/api/v1/profile/\n",
      "i: 19, create, 201, http://localhost/api/v1/profile/\n",
      "i: 20, create, 201, http://localhost/api/v1/profile/\n",
      "i: 21, create, 201, http://localhost/api/v1/profile/\n",
      "i: 22, create, 201, http://localhost/api/v1/profile/\n",
      "i: 23, create, 201, http://localhost/api/v1/profile/\n",
      "i: 24, create, 201, http://localhost/api/v1/profile/\n",
      "i: 25, create, 201, http://localhost/api/v1/profile/\n",
      "i: 26, create, 201, http://localhost/api/v1/profile/\n",
      "i: 27, create, 201, http://localhost/api/v1/profile/\n",
      "i: 28, create, 201, http://localhost/api/v1/profile/\n",
      "i: 29, create, 201, http://localhost/api/v1/profile/\n",
      "i: 30, create, 201, http://localhost/api/v1/profile/\n",
      "i: 31, create, 201, http://localhost/api/v1/profile/\n",
      "i: 32, create, 201, http://localhost/api/v1/profile/\n",
      "i: 33, create, 201, http://localhost/api/v1/profile/\n",
      "i: 34, create, 201, http://localhost/api/v1/profile/\n",
      "i: 35, create, 201, http://localhost/api/v1/profile/\n",
      "i: 36, create, 201, http://localhost/api/v1/profile/\n",
      "i: 37, create, 201, http://localhost/api/v1/profile/\n",
      "i: 38, create, 201, http://localhost/api/v1/profile/\n",
      "i: 39, create, 201, http://localhost/api/v1/profile/\n",
      "i: 40, create, 201, http://localhost/api/v1/profile/\n",
      "i: 41, create, 201, http://localhost/api/v1/profile/\n",
      "i: 42, create, 201, http://localhost/api/v1/profile/\n",
      "i: 43, create, 201, http://localhost/api/v1/profile/\n",
      "i: 44, create, 201, http://localhost/api/v1/profile/\n",
      "i: 45, create, 201, http://localhost/api/v1/profile/\n",
      "i: 46, create, 201, http://localhost/api/v1/profile/\n",
      "i: 47, create, 201, http://localhost/api/v1/profile/\n",
      "i: 48, create, 201, http://localhost/api/v1/profile/\n",
      "i: 49, create, 201, http://localhost/api/v1/profile/\n",
      "i: 50, create, 201, http://localhost/api/v1/profile/\n"
     ]
    }
   ],
   "source": [
    "for i in range(1,51):\n",
    "    url = 'http://localhost/api/v1/profile/'\n",
    "    data = {\n",
    "        \"id\": i,\n",
    "        \"name\": f\"test_{i}\",\n",
    "        \"address\": f\"address_{i}\",\n",
    "        \"postcode\": f\"p_{i}\",\n",
    "        \"email\": f\"email_{i}@gmail.com\",\n",
    "        \"user\": 1\n",
    "    }\n",
    "    payload = json.dumps(data)\n",
    "    headers = {'content-type': 'application/json'}\n",
    "    r = requests.post(url, data=payload, headers=headers)\n",
    "    print(f'i: {i}, create, {r.status_code}, {url}')"
   ]
  },
  {
   "cell_type": "markdown",
   "id": "202c5903",
   "metadata": {},
   "source": [
    "## Generate Logs"
   ]
  },
  {
   "cell_type": "markdown",
   "id": "782de56a",
   "metadata": {},
   "source": [
    "### normal"
   ]
  },
  {
   "cell_type": "code",
   "execution_count": 53,
   "id": "2f12eeaa",
   "metadata": {},
   "outputs": [
    {
     "data": {
      "text/plain": [
       "0.05"
      ]
     },
     "execution_count": 53,
     "metadata": {},
     "output_type": "execute_result"
    }
   ],
   "source": [
    "message_per_sec = 20\n",
    "delay = 1/message_per_sec\n",
    "delay"
   ]
  },
  {
   "cell_type": "code",
   "execution_count": 57,
   "id": "82d91162",
   "metadata": {},
   "outputs": [
    {
     "name": "stdout",
     "output_type": "stream",
     "text": [
      "i: 0, update, 200, http://localhost/api/v1/profile/4/\n",
      "i: 1, read, 200, http://localhost/api/v1/profile/2/\n",
      "i: 2, read, 200, http://localhost/api/v1/profile/4/\n",
      "i: 3, update, 200, http://localhost/api/v1/profile/4/\n",
      "i: 4, read, 200, http://localhost/api/v1/profile/2/\n",
      "i: 5, read, 200, http://localhost/api/v1/profile/3/\n",
      "i: 6, update, 200, http://localhost/api/v1/profile/1/\n",
      "i: 7, update, 200, http://localhost/api/v1/profile/2/\n",
      "i: 8, read, 200, http://localhost/api/v1/profile/1/\n",
      "i: 9, read, 200, http://localhost/api/v1/profile/4/\n",
      "i: 10, update, 200, http://localhost/api/v1/profile/3/\n",
      "i: 11, update, 200, http://localhost/api/v1/profile/1/\n",
      "i: 12, read, 200, http://localhost/api/v1/profile/2/\n",
      "i: 13, read, 200, http://localhost/api/v1/profile/1/\n",
      "i: 14, read, 200, http://localhost/api/v1/profile/1/\n",
      "i: 15, update, 200, http://localhost/api/v1/profile/2/\n",
      "i: 16, read, 200, http://localhost/api/v1/profile/1/\n",
      "i: 17, read, 200, http://localhost/api/v1/profile/4/\n",
      "i: 18, read, 200, http://localhost/api/v1/profile/1/\n",
      "i: 19, read, 200, http://localhost/api/v1/profile/3/\n",
      "i: 20, read, 200, http://localhost/api/v1/profile/1/\n",
      "i: 21, read, 200, http://localhost/api/v1/profile/3/\n",
      "i: 22, read, 200, http://localhost/api/v1/profile/3/\n",
      "i: 23, read, 200, http://localhost/api/v1/profile/2/\n",
      "i: 24, update, 200, http://localhost/api/v1/profile/3/\n",
      "i: 25, update, 200, http://localhost/api/v1/profile/1/\n",
      "i: 26, read, 200, http://localhost/api/v1/profile/1/\n",
      "i: 27, update, 200, http://localhost/api/v1/profile/2/\n",
      "i: 28, read, 200, http://localhost/api/v1/profile/4/\n",
      "i: 29, read, 200, http://localhost/api/v1/profile/3/\n",
      "i: 30, update, 200, http://localhost/api/v1/profile/4/\n",
      "i: 31, read, 200, http://localhost/api/v1/profile/4/\n",
      "i: 32, read, 200, http://localhost/api/v1/profile/2/\n",
      "i: 33, read, 200, http://localhost/api/v1/profile/4/\n",
      "i: 34, read, 200, http://localhost/api/v1/profile/2/\n",
      "i: 35, read, 200, http://localhost/api/v1/profile/1/\n",
      "i: 36, read, 200, http://localhost/api/v1/profile/3/\n",
      "i: 37, update, 200, http://localhost/api/v1/profile/4/\n",
      "i: 38, read, 200, http://localhost/api/v1/profile/4/\n",
      "i: 39, read, 200, http://localhost/api/v1/profile/2/\n",
      "i: 40, read, 200, http://localhost/api/v1/profile/4/\n",
      "i: 41, update, 200, http://localhost/api/v1/profile/4/\n",
      "i: 42, read, 200, http://localhost/api/v1/profile/2/\n",
      "i: 43, update, 200, http://localhost/api/v1/profile/2/\n",
      "i: 44, update, 200, http://localhost/api/v1/profile/1/\n",
      "i: 45, update, 200, http://localhost/api/v1/profile/1/\n",
      "i: 46, update, 200, http://localhost/api/v1/profile/1/\n",
      "i: 47, read, 200, http://localhost/api/v1/profile/1/\n",
      "i: 48, update, 200, http://localhost/api/v1/profile/3/\n",
      "i: 49, update, 200, http://localhost/api/v1/profile/1/\n"
     ]
    }
   ],
   "source": [
    "actions = [\n",
    "#     'create',\n",
    "    'read', \n",
    "    'update',\n",
    "]\n",
    "max_object = 5\n",
    "\n",
    "for i in range(50):\n",
    "#     delay = random.uniform(0.8, 4)    \n",
    "    time.sleep(delay)\n",
    "    action = random.choice(actions)\n",
    "    if action == 'read':    \n",
    "        id = random.randrange(1, max_object)\n",
    "        url = f'http://localhost/api/v1/profile/{id}/'\n",
    "        r = requests.get(url)\n",
    "\n",
    "    elif action == 'create':\n",
    "        url = 'http://localhost/api/v1/profile/'\n",
    "        data = {\n",
    "            \"name\": f\"test_{i}\",\n",
    "            \"address\": f\"address_{i}\",\n",
    "            \"postcode\": f\"p_{i}\",\n",
    "            \"email\": f\"email_{i}@gmail.com\",\n",
    "            \"user\": 1\n",
    "        }\n",
    "        payload = json.dumps(data)\n",
    "        headers = {'content-type': 'application/json'}\n",
    "        r = requests.post(url, data=payload, headers=headers)\n",
    "\n",
    "    elif action == 'update':\n",
    "        id = random.randrange(1, max_object)\n",
    "        url = f'http://localhost/api/v1/profile/{id}/'\n",
    "        data = {\n",
    "            \"name\": f\"test_{i}\"\n",
    "        }\n",
    "        payload = json.dumps(data)\n",
    "        headers = {'content-type': 'application/json'}\n",
    "        r = requests.patch(url, data=payload, headers=headers)\n",
    "    print(f'i: {i}, {action}, {r.status_code}, {url}')"
   ]
  },
  {
   "cell_type": "markdown",
   "id": "131042ba",
   "metadata": {},
   "source": [
    "### scan"
   ]
  },
  {
   "cell_type": "code",
   "execution_count": 58,
   "id": "dcf1fe8f",
   "metadata": {
    "scrolled": true
   },
   "outputs": [
    {
     "name": "stdout",
     "output_type": "stream",
     "text": [
      "i: 1, 200\n",
      "i: 2, 200\n",
      "i: 3, 200\n",
      "i: 4, 200\n",
      "i: 5, 200\n",
      "i: 6, 200\n",
      "i: 7, 200\n",
      "i: 8, 200\n",
      "i: 9, 200\n",
      "i: 10, 200\n",
      "i: 11, 200\n",
      "i: 12, 200\n",
      "i: 13, 200\n",
      "i: 14, 200\n",
      "i: 15, 200\n",
      "i: 16, 200\n",
      "i: 17, 200\n",
      "i: 18, 200\n",
      "i: 19, 200\n",
      "i: 20, 200\n",
      "i: 21, 200\n",
      "i: 22, 200\n",
      "i: 23, 200\n",
      "i: 24, 200\n",
      "i: 25, 200\n",
      "i: 26, 200\n",
      "i: 27, 200\n",
      "i: 28, 200\n",
      "i: 29, 200\n",
      "i: 30, 200\n",
      "i: 31, 200\n",
      "i: 32, 200\n",
      "i: 33, 200\n",
      "i: 34, 200\n",
      "i: 35, 200\n",
      "i: 36, 200\n",
      "i: 37, 200\n",
      "i: 38, 200\n",
      "i: 39, 200\n",
      "i: 40, 200\n",
      "i: 41, 200\n",
      "i: 42, 200\n",
      "i: 43, 200\n",
      "i: 44, 200\n",
      "i: 45, 200\n",
      "i: 46, 200\n",
      "i: 47, 200\n",
      "i: 48, 200\n",
      "i: 49, 200\n",
      "i: 50, 200\n",
      "i: 51, 404\n",
      "i: 52, 404\n",
      "i: 53, 404\n",
      "i: 54, 404\n",
      "i: 55, 404\n",
      "i: 56, 404\n",
      "i: 57, 404\n",
      "i: 58, 404\n",
      "i: 59, 404\n",
      "i: 60, 404\n",
      "i: 61, 404\n",
      "i: 62, 404\n",
      "i: 63, 404\n",
      "i: 64, 404\n",
      "i: 65, 404\n",
      "i: 66, 404\n",
      "i: 67, 404\n",
      "i: 68, 404\n",
      "i: 69, 404\n",
      "i: 70, 404\n",
      "i: 71, 404\n",
      "i: 72, 404\n",
      "i: 73, 404\n",
      "i: 74, 404\n",
      "i: 75, 404\n",
      "i: 76, 404\n",
      "i: 77, 404\n",
      "i: 78, 404\n",
      "i: 79, 404\n",
      "i: 80, 404\n",
      "i: 81, 404\n",
      "i: 82, 404\n",
      "i: 83, 404\n",
      "i: 84, 404\n",
      "i: 85, 404\n",
      "i: 86, 404\n",
      "i: 87, 404\n",
      "i: 88, 404\n",
      "i: 89, 404\n",
      "i: 90, 404\n",
      "i: 91, 404\n",
      "i: 92, 404\n",
      "i: 93, 404\n",
      "i: 94, 404\n",
      "i: 95, 404\n",
      "i: 96, 404\n",
      "i: 97, 404\n",
      "i: 98, 404\n",
      "i: 99, 404\n",
      "i: 100, 404\n"
     ]
    }
   ],
   "source": [
    "for i in range(1,101):\n",
    "    time.sleep(0.1)\n",
    "    url = f'http://localhost/api/v1/profile/{i}/'\n",
    "    r = requests.get(url)\n",
    "    print(f'i: {i}, {r.status_code}')"
   ]
  },
  {
   "cell_type": "markdown",
   "id": "c38a8d36",
   "metadata": {},
   "source": [
    "### error"
   ]
  },
  {
   "cell_type": "code",
   "execution_count": 63,
   "id": "006de322",
   "metadata": {},
   "outputs": [
    {
     "name": "stdout",
     "output_type": "stream",
     "text": [
      "i: 1, 500\n",
      "i: 2, 500\n",
      "i: 3, 500\n",
      "i: 4, 500\n",
      "i: 5, 500\n",
      "i: 6, 500\n",
      "i: 7, 500\n",
      "i: 8, 500\n",
      "i: 9, 500\n",
      "i: 10, 500\n",
      "i: 11, 500\n",
      "i: 12, 500\n",
      "i: 13, 500\n",
      "i: 14, 500\n",
      "i: 15, 500\n",
      "i: 16, 500\n",
      "i: 17, 500\n",
      "i: 18, 500\n",
      "i: 19, 500\n",
      "i: 20, 500\n",
      "i: 21, 500\n",
      "i: 22, 500\n",
      "i: 23, 500\n",
      "i: 24, 500\n",
      "i: 25, 500\n",
      "i: 26, 500\n",
      "i: 27, 500\n",
      "i: 28, 500\n",
      "i: 29, 500\n",
      "i: 30, 500\n",
      "i: 31, 500\n",
      "i: 32, 500\n",
      "i: 33, 500\n",
      "i: 34, 500\n",
      "i: 35, 500\n",
      "i: 36, 500\n",
      "i: 37, 500\n",
      "i: 38, 500\n",
      "i: 39, 500\n"
     ]
    }
   ],
   "source": [
    "for i in range(1,40):\n",
    "    time.sleep(0.7)\n",
    "    url = f'http://localhost/api/v1/error/'\n",
    "    r = requests.get(url)\n",
    "    print(f'i: {i}, {r.status_code}')"
   ]
  },
  {
   "cell_type": "markdown",
   "id": "831c1879",
   "metadata": {},
   "source": [
    "### timeout"
   ]
  },
  {
   "cell_type": "code",
   "execution_count": 66,
   "id": "1005039b",
   "metadata": {},
   "outputs": [
    {
     "name": "stdout",
     "output_type": "stream",
     "text": [
      "thread_no: 0, i: 1, 504\n",
      "thread_no: 3, i: 1, 504\n",
      "thread_no: 2, i: 1, 504\n",
      "thread_no: 1, i: 1, 504\n",
      "thread_no: 4, i: 1, 504\n",
      "thread_no: 6, i: 1, 504\n",
      "thread_no: 9, i: 1, 504\n",
      "thread_no: 5, i: 1, 504\n",
      "thread_no: 8, i: 1, 504\n",
      "thread_no: 7, i: 1, 504\n"
     ]
    }
   ],
   "source": [
    "def send_timeout(thread_no):\n",
    "    for i in range(0,3):\n",
    "        url = f'http://localhost/api/v1/timeout/'\n",
    "        r = requests.get(url)\n",
    "        print(f'thread_no: {thread_no}, i: {i}, {r.status_code}')\n",
    "            \n",
    "NUM_THREAD = 10\n",
    "            \n",
    "threads = []\n",
    "for thread_no in range(NUM_THREAD):\n",
    "    thread = threading.Thread(target=send_timeout, args=(thread_no,))\n",
    "    thread.start()\n",
    "    threads.append(thread)\n",
    "for thread in threads:\n",
    "    thread.join()"
   ]
  }
 ],
 "metadata": {
  "kernelspec": {
   "display_name": "Python 3 (ipykernel)",
   "language": "python",
   "name": "python3"
  },
  "language_info": {
   "codemirror_mode": {
    "name": "ipython",
    "version": 3
   },
   "file_extension": ".py",
   "mimetype": "text/x-python",
   "name": "python",
   "nbconvert_exporter": "python",
   "pygments_lexer": "ipython3",
   "version": "3.9.5"
  }
 },
 "nbformat": 4,
 "nbformat_minor": 5
}
