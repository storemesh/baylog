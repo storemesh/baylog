{
 "cells": [
  {
   "cell_type": "code",
   "execution_count": 59,
   "id": "e855a803",
   "metadata": {},
   "outputs": [],
   "source": [
    "import requests\n",
    "import json\n",
    "from datetime import datetime\n",
    "import random\n",
    "import json\n",
    "import threading\n",
    "import time"
   ]
  },
  {
   "cell_type": "markdown",
   "id": "202c5903",
   "metadata": {},
   "source": [
    "## Generate Logs"
   ]
  },
  {
   "cell_type": "markdown",
   "id": "e240bd53",
   "metadata": {},
   "source": [
    "### normal behaiour"
   ]
  },
  {
   "cell_type": "code",
   "execution_count": 1,
   "id": "eb11b2dc",
   "metadata": {},
   "outputs": [],
   "source": [
    "## generate in locust, see locust/locustfile.py"
   ]
  },
  {
   "cell_type": "markdown",
   "id": "131042ba",
   "metadata": {},
   "source": [
    "### scan"
   ]
  },
  {
   "cell_type": "code",
   "execution_count": 58,
   "id": "dcf1fe8f",
   "metadata": {
    "scrolled": true
   },
   "outputs": [
    {
     "name": "stdout",
     "output_type": "stream",
     "text": [
      "i: 1, 200\n",
      "i: 2, 200\n",
      "i: 3, 200\n",
      "i: 4, 200\n",
      "i: 5, 200\n",
      "i: 6, 200\n",
      "i: 7, 200\n",
      "i: 8, 200\n",
      "i: 9, 200\n",
      "i: 10, 200\n",
      "i: 11, 200\n",
      "i: 12, 200\n",
      "i: 13, 200\n",
      "i: 14, 200\n",
      "i: 15, 200\n",
      "i: 16, 200\n",
      "i: 17, 200\n",
      "i: 18, 200\n",
      "i: 19, 200\n",
      "i: 20, 200\n",
      "i: 21, 200\n",
      "i: 22, 200\n",
      "i: 23, 200\n",
      "i: 24, 200\n",
      "i: 25, 200\n",
      "i: 26, 200\n",
      "i: 27, 200\n",
      "i: 28, 200\n",
      "i: 29, 200\n",
      "i: 30, 200\n",
      "i: 31, 200\n",
      "i: 32, 200\n",
      "i: 33, 200\n",
      "i: 34, 200\n",
      "i: 35, 200\n",
      "i: 36, 200\n",
      "i: 37, 200\n",
      "i: 38, 200\n",
      "i: 39, 200\n",
      "i: 40, 200\n",
      "i: 41, 200\n",
      "i: 42, 200\n",
      "i: 43, 200\n",
      "i: 44, 200\n",
      "i: 45, 200\n",
      "i: 46, 200\n",
      "i: 47, 200\n",
      "i: 48, 200\n",
      "i: 49, 200\n",
      "i: 50, 200\n",
      "i: 51, 404\n",
      "i: 52, 404\n",
      "i: 53, 404\n",
      "i: 54, 404\n",
      "i: 55, 404\n",
      "i: 56, 404\n",
      "i: 57, 404\n",
      "i: 58, 404\n",
      "i: 59, 404\n",
      "i: 60, 404\n",
      "i: 61, 404\n",
      "i: 62, 404\n",
      "i: 63, 404\n",
      "i: 64, 404\n",
      "i: 65, 404\n",
      "i: 66, 404\n",
      "i: 67, 404\n",
      "i: 68, 404\n",
      "i: 69, 404\n",
      "i: 70, 404\n",
      "i: 71, 404\n",
      "i: 72, 404\n",
      "i: 73, 404\n",
      "i: 74, 404\n",
      "i: 75, 404\n",
      "i: 76, 404\n",
      "i: 77, 404\n",
      "i: 78, 404\n",
      "i: 79, 404\n",
      "i: 80, 404\n",
      "i: 81, 404\n",
      "i: 82, 404\n",
      "i: 83, 404\n",
      "i: 84, 404\n",
      "i: 85, 404\n",
      "i: 86, 404\n",
      "i: 87, 404\n",
      "i: 88, 404\n",
      "i: 89, 404\n",
      "i: 90, 404\n",
      "i: 91, 404\n",
      "i: 92, 404\n",
      "i: 93, 404\n",
      "i: 94, 404\n",
      "i: 95, 404\n",
      "i: 96, 404\n",
      "i: 97, 404\n",
      "i: 98, 404\n",
      "i: 99, 404\n",
      "i: 100, 404\n"
     ]
    }
   ],
   "source": [
    "for i in range(1,101):\n",
    "    time.sleep(0.1)\n",
    "    url = f'http://localhost/api/v1/profile/{i}/'\n",
    "    r = requests.get(url)\n",
    "    print(f'i: {i}, {r.status_code}')"
   ]
  },
  {
   "cell_type": "markdown",
   "id": "c38a8d36",
   "metadata": {},
   "source": [
    "### error"
   ]
  },
  {
   "cell_type": "code",
   "execution_count": 63,
   "id": "006de322",
   "metadata": {},
   "outputs": [
    {
     "name": "stdout",
     "output_type": "stream",
     "text": [
      "i: 1, 500\n",
      "i: 2, 500\n",
      "i: 3, 500\n",
      "i: 4, 500\n",
      "i: 5, 500\n",
      "i: 6, 500\n",
      "i: 7, 500\n",
      "i: 8, 500\n",
      "i: 9, 500\n",
      "i: 10, 500\n",
      "i: 11, 500\n",
      "i: 12, 500\n",
      "i: 13, 500\n",
      "i: 14, 500\n",
      "i: 15, 500\n",
      "i: 16, 500\n",
      "i: 17, 500\n",
      "i: 18, 500\n",
      "i: 19, 500\n",
      "i: 20, 500\n",
      "i: 21, 500\n",
      "i: 22, 500\n",
      "i: 23, 500\n",
      "i: 24, 500\n",
      "i: 25, 500\n",
      "i: 26, 500\n",
      "i: 27, 500\n",
      "i: 28, 500\n",
      "i: 29, 500\n",
      "i: 30, 500\n",
      "i: 31, 500\n",
      "i: 32, 500\n",
      "i: 33, 500\n",
      "i: 34, 500\n",
      "i: 35, 500\n",
      "i: 36, 500\n",
      "i: 37, 500\n",
      "i: 38, 500\n",
      "i: 39, 500\n"
     ]
    }
   ],
   "source": [
    "for i in range(1,40):\n",
    "    time.sleep(0.7)\n",
    "    url = f'http://localhost/api/v1/error/'\n",
    "    r = requests.get(url)\n",
    "    print(f'i: {i}, {r.status_code}')"
   ]
  },
  {
   "cell_type": "markdown",
   "id": "831c1879",
   "metadata": {},
   "source": [
    "### timeout"
   ]
  },
  {
   "cell_type": "code",
   "execution_count": 66,
   "id": "1005039b",
   "metadata": {},
   "outputs": [
    {
     "name": "stdout",
     "output_type": "stream",
     "text": [
      "thread_no: 0, i: 1, 504\n",
      "thread_no: 3, i: 1, 504\n",
      "thread_no: 2, i: 1, 504\n",
      "thread_no: 1, i: 1, 504\n",
      "thread_no: 4, i: 1, 504\n",
      "thread_no: 6, i: 1, 504\n",
      "thread_no: 9, i: 1, 504\n",
      "thread_no: 5, i: 1, 504\n",
      "thread_no: 8, i: 1, 504\n",
      "thread_no: 7, i: 1, 504\n"
     ]
    }
   ],
   "source": [
    "def send_timeout(thread_no):\n",
    "    for i in range(0,3):\n",
    "        url = f'http://localhost/api/v1/timeout/'\n",
    "        r = requests.get(url)\n",
    "        print(f'thread_no: {thread_no}, i: {i}, {r.status_code}')\n",
    "            \n",
    "NUM_THREAD = 10\n",
    "            \n",
    "threads = []\n",
    "for thread_no in range(NUM_THREAD):\n",
    "    thread = threading.Thread(target=send_timeout, args=(thread_no,))\n",
    "    thread.start()\n",
    "    threads.append(thread)\n",
    "for thread in threads:\n",
    "    thread.join()"
   ]
  }
 ],
 "metadata": {
  "kernelspec": {
   "display_name": "Python 3 (ipykernel)",
   "language": "python",
   "name": "python3"
  },
  "language_info": {
   "codemirror_mode": {
    "name": "ipython",
    "version": 3
   },
   "file_extension": ".py",
   "mimetype": "text/x-python",
   "name": "python",
   "nbconvert_exporter": "python",
   "pygments_lexer": "ipython3",
   "version": "3.7.13"
  }
 },
 "nbformat": 4,
 "nbformat_minor": 5
}
